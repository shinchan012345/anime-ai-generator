{
  "cells": [
    {
      "cell_type": "markdown",
      "id": "e3990271",
      "metadata": {
        "id": "e3990271"
      },
      "source": [
        "# Anime Character Generator using Stable Diffusion"
      ]
    },
    {
      "cell_type": "code",
      "execution_count": null,
      "id": "5220f5d5",
      "metadata": {
        "id": "5220f5d5"
      },
      "outputs": [],
      "source": [
        "!pip install diffusers transformers accelerate safetensors torch torchvision torchaudio -i https://pypi.tuna.tsinghua.edu.cn/simple"
      ]
    },
    {
      "cell_type": "code",
      "execution_count": null,
      "id": "62ae5e42",
      "metadata": {
        "id": "62ae5e42"
      },
      "outputs": [],
      "source": [
        "from huggingface_hub import login\n",
        "login(\"your_huggingface_token_here\")  # Replace with your token\n"
      ]
    },
    {
      "cell_type": "code",
      "execution_count": null,
      "id": "7020f4a0",
      "metadata": {
        "id": "7020f4a0"
      },
      "outputs": [],
      "source": [
        "import torch\n",
        "from diffusers import StableDiffusionPipeline\n",
        "\n",
        "pipe = StableDiffusionPipeline.from_pretrained(\n",
        "    \"Linaqruf/anything-v4.0\",\n",
        "    torch_dtype=torch.float16,\n",
        "    revision=\"fp16\",\n",
        "    use_safetensors=True\n",
        ").to(\"cuda\")\n"
      ]
    },
    {
      "cell_type": "code",
      "execution_count": null,
      "id": "7e16b125",
      "metadata": {
        "id": "7e16b125"
      },
      "outputs": [],
      "source": [
        "prompt = \"anime girl with black hair, cherry blossoms, soft lighting, detailed face, beautiful background\"\n",
        "image = pipe(prompt).images[0]\n",
        "image.save(\"/content/anime_character1.png\")\n",
        "image.show()\n"
      ]
    },
    {
      "cell_type": "code",
      "execution_count": null,
      "id": "39c8db6b",
      "metadata": {
        "id": "39c8db6b"
      },
      "outputs": [],
      "source": [
        "from google.colab import drive\n",
        "drive.mount('/content/drive')\n",
        "\n",
        "# Save image to Drive\n",
        "image.save(\"/content/drive/MyDrive/anime_character1.png\")\n"
      ]
    }
  ],
  "metadata": {
    "colab": {
      "provenance": []
    },
    "language_info": {
      "name": "python"
    },
    "kernelspec": {
      "name": "python3",
      "display_name": "Python 3"
    }
  },
  "nbformat": 4,
  "nbformat_minor": 5
}